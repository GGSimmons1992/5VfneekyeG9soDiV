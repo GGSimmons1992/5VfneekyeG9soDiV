{
 "cells": [
  {
   "cell_type": "code",
   "execution_count": 1,
   "id": "a2c74b81-8cf5-4858-9671-b97989d62211",
   "metadata": {},
   "outputs": [
    {
     "name": "stderr",
     "output_type": "stream",
     "text": [
      "/Users/garysimmons/anaconda3/envs/TensorFlowConda/lib/python3.9/site-packages/tqdm/auto.py:21: TqdmWarning: IProgress not found. Please update jupyter and ipywidgets. See https://ipywidgets.readthedocs.io/en/stable/user_install.html\n",
      "  from .autonotebook import tqdm as notebook_tqdm\n"
     ]
    },
    {
     "data": {
      "application/javascript": "IPython.notebook.set_autosave_interval(5000)"
     },
     "metadata": {},
     "output_type": "display_data"
    },
    {
     "name": "stdout",
     "output_type": "stream",
     "text": [
      "Autosaving every 5 seconds\n"
     ]
    }
   ],
   "source": [
    "import pandas as pd\n",
    "import spacy\n",
    "from sklearn.feature_extraction.text import CountVectorizer,TfidfVectorizer\n",
    "from sklearn.metrics.pairwise import cosine_similarity\n",
    "from gensim.models import Word2Vec, FastText\n",
    "from gensim.models.phrases import Phrases, Phraser\n",
    "import numpy as np\n",
    "from tensorflow.keras.preprocessing.text import Tokenizer\n",
    "from tensorflow.keras.preprocessing.sequence import pad_sequences\n",
    "from transformers import BertTokenizer, BertForSequenceClassification\n",
    "import torch\n",
    "from sentence_transformers import SentenceTransformer\n",
    "\n",
    "import sys\n",
    "sys.path.insert(0, \"../src/\")\n",
    "import util as util\n",
    "\n",
    "%autosave 5"
   ]
  },
  {
   "cell_type": "code",
   "execution_count": 2,
   "id": "ca76ca37-4ebe-454b-b94e-9ff009147962",
   "metadata": {},
   "outputs": [],
   "source": [
    "queries = [\"full-stack software engineer\", \"engineering manager\",\"aspiring human resources\"]\n",
    "maxVisibleCandidates = 15"
   ]
  },
  {
   "cell_type": "code",
   "execution_count": 3,
   "id": "8eea0bf7-1344-412f-a953-b5c6ca07c255",
   "metadata": {},
   "outputs": [],
   "source": [
    "originalCandidates = pd.read_csv('../data/raw/potential-talents-AspiringHumanResources-SeekingHumanResources.csv')\n",
    "originalCandidates = originalCandidates.drop_duplicates(subset=['job_title'])\n",
    "originalCandidates.loc[originalCandidates['connection'] == '500+ ','connection'] = '500'\n",
    "originalCandidates['connection'] = originalCandidates['connection'].astype(int)"
   ]
  },
  {
   "cell_type": "markdown",
   "id": "0e374f37-ecb2-42ca-bdca-e758dcbabe1b",
   "metadata": {},
   "source": [
    "# Bag Of Words"
   ]
  },
  {
   "cell_type": "code",
   "execution_count": 5,
   "id": "bcf93c2f-0040-47ba-9814-3731c1944096",
   "metadata": {},
   "outputs": [
    {
     "name": "stdout",
     "output_type": "stream",
     "text": [
      "full-stack software engineer\n",
      "1: Junior MES Engineer| Information Systems 0.22360679774997896\n",
      "2: Human Resources professional for the world leader in GIS software 0.15811388300841897\n",
      "3: Native English Teacher at EPIK (English Program in Korea) 0.0\n",
      "4: People Development Coordinator at Ryan 0.0\n",
      "5: Advisory Board Member at Celal Bayar University 0.0\n",
      "6: HR Senior Specialist 0.0\n",
      "7: Seeking Human Resources HRIS and Generalist Positions 0.0\n",
      "8: SVP, CHRO, Marketing & Communications, CSR Officer | ENGIE | Houston | The Woodlands | Energy | GPHR | SPHR 0.0\n",
      "9: Human Resources Coordinator at InterContinental Buckhead Atlanta 0.0\n",
      "10: Aspiring Human Resources Management student seeking an internship 0.0\n",
      "11: Human Resources, Staffing and Recruiting Professional 0.0\n",
      "12: Human Resources Specialist at Luxottica 0.0\n",
      "13: Director of Human Resources North America, Groupe Beneteau 0.0\n",
      "14: Human Resources Generalist at ScottMadden, Inc. 0.0\n",
      "15: Nortia Staffing is seeking Human Resources, Payroll & Administrative Professionals!!  (408) 709-2621 0.0\n",
      "---\n",
      "engineering manager\n",
      "1: HR Manager at Endemol Shine North America 0.26726124191242434\n",
      "2: Experienced Retail Manager and aspiring Human Resources Professional 0.24999999999999994\n",
      "3: Business Management Major and Aspiring Human Resources Manager 0.24999999999999994\n",
      "4: Retired Army National Guard Recruiter, office manager,  seeking a position in Human Resources. 0.2041241452319315\n",
      "5: Aspiring Human Resources Manager, seeking internship in Human Resources. 0.19611613513818402\n",
      "6: Student at Indiana University Kokomo - Business Management - \n",
      "Retail Manager at Delphi Hardware and Paint 0.17677669529663687\n",
      "7: Aspiring Human Resources Manager | Graduating May 2020 | Seeking an Entry-Level Human Resources Position in St. Louis 0.1543033499620919\n",
      "8: Native English Teacher at EPIK (English Program in Korea) 0.0\n",
      "9: People Development Coordinator at Ryan 0.0\n",
      "10: Advisory Board Member at Celal Bayar University 0.0\n",
      "11: HR Senior Specialist 0.0\n",
      "12: Seeking Human Resources HRIS and Generalist Positions 0.0\n",
      "13: SVP, CHRO, Marketing & Communications, CSR Officer | ENGIE | Houston | The Woodlands | Energy | GPHR | SPHR 0.0\n",
      "14: Human Resources Coordinator at InterContinental Buckhead Atlanta 0.0\n",
      "15: Aspiring Human Resources Management student seeking an internship 0.0\n",
      "---\n",
      "aspiring human resources\n",
      "1: Aspiring Human Resources Professional 0.8660254037844388\n",
      "2: Aspiring Human Resources Specialist 0.8660254037844388\n",
      "3: Aspiring Human Resources Manager, seeking internship in Human Resources. 0.8006407690254358\n",
      "4: Human Resources Professional 0.6666666666666669\n",
      "5: Liberal Arts Major. Aspiring Human Resources Analyst. 0.6546536707079772\n",
      "6: Aspiring Human Resources Manager | Graduating May 2020 | Seeking an Entry-Level Human Resources Position in St. Louis 0.629940788348712\n",
      "7: Aspiring Human Resources Management student seeking an internship 0.6123724356957945\n",
      "8: Experienced Retail Manager and aspiring Human Resources Professional 0.6123724356957945\n",
      "9: Business Management Major and Aspiring Human Resources Manager 0.6123724356957945\n",
      "10: Seeking Human Resources Opportunities 0.5773502691896258\n",
      "11: Seeking Human Resources Position 0.5773502691896258\n",
      "12: Human Resources Management Major 0.5773502691896258\n",
      "13: Student at Humber College and Aspiring Human Resources Generalist 0.5773502691896257\n",
      "14: Aspiring Human Resources Professional | An energetic and Team-Focused Leader 0.5477225575051663\n",
      "15: Human Resources Specialist at Luxottica 0.5163977794943223\n",
      "---\n"
     ]
    }
   ],
   "source": [
    "vectorObject = CountVectorizer()\n",
    "\n",
    "util.scoreViaVectorMethod(originalCandidates,vectorObject,queries,maxVisibleCandidates)"
   ]
  },
  {
   "cell_type": "markdown",
   "id": "654bcce9-7d2e-4071-aa47-128342565755",
   "metadata": {},
   "source": [
    "# TF-IDF"
   ]
  },
  {
   "cell_type": "code",
   "execution_count": 6,
   "id": "303b32d5-2675-4aee-adf7-5388931581e1",
   "metadata": {},
   "outputs": [
    {
     "name": "stdout",
     "output_type": "stream",
     "text": [
      "full-stack software engineer\n",
      "1: Junior MES Engineer| Information Systems 0.2037092997193693\n",
      "2: Human Resources professional for the world leader in GIS software 0.17080174729822886\n",
      "3: Native English Teacher at EPIK (English Program in Korea) 0.0\n",
      "4: People Development Coordinator at Ryan 0.0\n",
      "5: Advisory Board Member at Celal Bayar University 0.0\n",
      "6: HR Senior Specialist 0.0\n",
      "7: Seeking Human Resources HRIS and Generalist Positions 0.0\n",
      "8: SVP, CHRO, Marketing & Communications, CSR Officer | ENGIE | Houston | The Woodlands | Energy | GPHR | SPHR 0.0\n",
      "9: Human Resources Coordinator at InterContinental Buckhead Atlanta 0.0\n",
      "10: Aspiring Human Resources Management student seeking an internship 0.0\n",
      "11: Human Resources, Staffing and Recruiting Professional 0.0\n",
      "12: Human Resources Specialist at Luxottica 0.0\n",
      "13: Director of Human Resources North America, Groupe Beneteau 0.0\n",
      "14: Human Resources Generalist at ScottMadden, Inc. 0.0\n",
      "15: Nortia Staffing is seeking Human Resources, Payroll & Administrative Professionals!!  (408) 709-2621 0.0\n",
      "---\n",
      "engineering manager\n",
      "1: Business Management Major and Aspiring Human Resources Manager 0.2019965161030101\n",
      "2: Aspiring Human Resources Manager, seeking internship in Human Resources. 0.1929501002004577\n",
      "3: Experienced Retail Manager and aspiring Human Resources Professional 0.18942839444623724\n",
      "4: HR Manager at Endemol Shine North America 0.1581704694858188\n",
      "5: Retired Army National Guard Recruiter, office manager,  seeking a position in Human Resources. 0.12421202321025542\n",
      "6: Student at Indiana University Kokomo - Business Management - \n",
      "Retail Manager at Delphi Hardware and Paint 0.1158254666022878\n",
      "7: Aspiring Human Resources Manager | Graduating May 2020 | Seeking an Entry-Level Human Resources Position in St. Louis 0.1079586931206762\n",
      "8: Native English Teacher at EPIK (English Program in Korea) 0.0\n",
      "9: People Development Coordinator at Ryan 0.0\n",
      "10: Advisory Board Member at Celal Bayar University 0.0\n",
      "11: HR Senior Specialist 0.0\n",
      "12: Seeking Human Resources HRIS and Generalist Positions 0.0\n",
      "13: SVP, CHRO, Marketing & Communications, CSR Officer | ENGIE | Houston | The Woodlands | Energy | GPHR | SPHR 0.0\n",
      "14: Human Resources Coordinator at InterContinental Buckhead Atlanta 0.0\n",
      "15: Aspiring Human Resources Management student seeking an internship 0.0\n",
      "---\n",
      "aspiring human resources\n",
      "1: Aspiring Human Resources Professional 0.751358014947897\n",
      "2: Aspiring Human Resources Specialist 0.6859445920667452\n",
      "3: Aspiring Human Resources Manager, seeking internship in Human Resources. 0.5830816883258054\n",
      "4: Business Management Major and Aspiring Human Resources Manager 0.4207376137811031\n",
      "5: Human Resources Professional 0.4077979187858037\n",
      "6: Aspiring Human Resources Management student seeking an internship 0.4015756793977854\n",
      "7: Experienced Retail Manager and aspiring Human Resources Professional 0.39455953102206875\n",
      "8: Student at Humber College and Aspiring Human Resources Generalist 0.3735976730965087\n",
      "9: Liberal Arts Major. Aspiring Human Resources Analyst. 0.3602090940817041\n",
      "10: Aspiring Human Resources Manager | Graduating May 2020 | Seeking an Entry-Level Human Resources Position in St. Louis 0.32624360904116323\n",
      "11: Aspiring Human Resources Professional | An energetic and Team-Focused Leader 0.31012450881890563\n",
      "12: Seeking Human Resources Opportunities 0.2913906948741737\n",
      "13: Seeking Human Resources Position 0.2913906948741737\n",
      "14: Human Resources Management Major 0.2725386841202994\n",
      "15: 2019 C.T. Bauer College of Business Graduate (Magna Cum Laude) and aspiring Human Resources professional 0.24371529856012442\n",
      "---\n"
     ]
    }
   ],
   "source": [
    "util.scoreViaVectorMethod(originalCandidates,TfidfVectorizer(),queries,maxVisibleCandidates)"
   ]
  },
  {
   "cell_type": "markdown",
   "id": "c36f8036-183e-4fb9-89db-fb787c1404bd",
   "metadata": {},
   "source": [
    "# Word2Vec"
   ]
  },
  {
   "cell_type": "code",
   "execution_count": 7,
   "id": "c41d620c-5f03-4776-80d7-a55ef7634ff3",
   "metadata": {},
   "outputs": [
    {
     "name": "stdout",
     "output_type": "stream",
     "text": [
      "full-stack software engineer\n",
      "1: Human Resources|\n",
      "Conflict Management|\n",
      "Policies & Procedures|Talent Management|Benefits & Compensation 0.20969724655151367\n",
      "2: People Development Coordinator at Ryan 0.20388048887252808\n",
      "3: Human Resources professional for the world leader in GIS software 0.14653201401233673\n",
      "4: SVP, CHRO, Marketing & Communications, CSR Officer | ENGIE | Houston | The Woodlands | Energy | GPHR | SPHR 0.13757851719856262\n",
      "5: Aspiring Human Resources Manager | Graduating May 2020 | Seeking an Entry-Level Human Resources Position in St. Louis 0.10032840073108673\n",
      "6: Undergraduate Research Assistant at Styczynski Lab 0.09760184586048126\n",
      "7: Always set them up for Success 0.09000013768672943\n",
      "8: Seeking employment opportunities within Customer Service or Patient Care 0.07851476222276688\n",
      "9: Native English Teacher at EPIK (English Program in Korea) 0.07720156013965607\n",
      "10: Director Of Administration at Excellence Logging 0.0608261302113533\n",
      "11: Bachelor of Science in Biology from Victoria University of Wellington 0.04192369431257248\n",
      "12: Seeking Human Resources Opportunities 0.03712804242968559\n",
      "13: Information Systems Specialist and Programmer with a love for data and organization. 0.0359308235347271\n",
      "14: Liberal Arts Major. Aspiring Human Resources Analyst. 0.03175172209739685\n",
      "15: Nortia Staffing is seeking Human Resources, Payroll & Administrative Professionals!!  (408) 709-2621 0.025760073214769363\n",
      "---\n",
      "engineering manager\n",
      "1: Human Resources Generalist at Loparex 0.2975456714630127\n",
      "2: Aspiring Human Resources Manager | Graduating May 2020 | Seeking an Entry-Level Human Resources Position in St. Louis 0.22256998717784882\n",
      "3: Human Resources Generalist at Schwan's 0.22035789489746094\n",
      "4: HR Manager at Endemol Shine North America 0.20936062932014465\n",
      "5: Director of Human Resources North America, Groupe Beneteau 0.2055922895669937\n",
      "6: Human Resources Generalist at ScottMadden, Inc. 0.19888290762901306\n",
      "7: Director Human Resources  at EY 0.19821247458457947\n",
      "8: Seeking Human  Resources Opportunities. Open to travel and relocation. 0.16678652167320251\n",
      "9: Human Resources Management Major 0.16051088273525238\n",
      "10: Business Management Major and Aspiring Human Resources Manager 0.15736839175224304\n",
      "11: Seeking Human Resources HRIS and Generalist Positions 0.1540379822254181\n",
      "12: Experienced Retail Manager and aspiring Human Resources Professional 0.14456774294376373\n",
      "13: Aspiring Human Resources Management student seeking an internship 0.143680140376091\n",
      "14: Aspiring Human Resources Specialist 0.12874779105186462\n",
      "15: Human Resources Coordinator at InterContinental Buckhead Atlanta 0.12254345417022705\n",
      "---\n",
      "aspiring human resources\n",
      "1: HR Senior Specialist 0.15357907116413116\n",
      "2: Experienced Retail Manager and aspiring Human Resources Professional 0.15242360532283783\n",
      "3: SVP, CHRO, Marketing & Communications, CSR Officer | ENGIE | Houston | The Woodlands | Energy | GPHR | SPHR 0.10345474630594254\n",
      "4: HR Manager at Endemol Shine North America 0.09738726913928986\n",
      "5: Information Systems Specialist and Programmer with a love for data and organization. 0.09521880745887756\n",
      "6: Liberal Arts Major. Aspiring Human Resources Analyst. 0.08624385297298431\n",
      "7: Junior MES Engineer| Information Systems 0.07427151501178741\n",
      "8: Always set them up for Success 0.0485076904296875\n",
      "9: Business Intelligence and Analytics at Travelers 0.03989411145448685\n",
      "10: Aspiring Human Resources Specialist 0.017888963222503662\n",
      "11: Seeking employment opportunities within Customer Service or Patient Care 0.00606045126914978\n",
      "12: Aspiring Human Resources Professional | Passionate about helping to create an inclusive and engaging work environment 0.0038797231391072273\n",
      "13: Student at Westfield State University 0.0033536097034811974\n",
      "14: Lead Official at Western Illinois University -0.0002684537321329117\n",
      "15: Aspiring Human Resources Management student seeking an internship -0.0016173049807548523\n",
      "---\n"
     ]
    }
   ],
   "source": [
    "candidates = originalCandidates.copy()\n",
    "job_titles = candidates[['job_title']].values.ravel()\n",
    "jobSentences = [title.split() for title in job_titles]\n",
    "querySentences = [title.split() for title in queries]\n",
    "allSentences = jobSentences + querySentences\n",
    "model = Word2Vec(sentences=allSentences, window=5, min_count=1, workers=4)\n",
    "\n",
    "jobVectors = np.array([(model.wv[jobSentence]).mean(axis=0) for jobSentence in jobSentences])\n",
    "\n",
    "for query in queries:\n",
    "    print(query)\n",
    "    query_vector = (model.wv[query.split()]).mean(axis=0).reshape(1,-1)\n",
    "    \n",
    "    candidates['fit'] = cosine_similarity(jobVectors,query_vector)\n",
    "    util.sortAndDisplay(candidates,maxVisibleCandidates)"
   ]
  },
  {
   "cell_type": "markdown",
   "id": "79e54013-3989-4036-a2cb-67cf6ed8f371",
   "metadata": {},
   "source": [
    "# Glove"
   ]
  },
  {
   "cell_type": "code",
   "execution_count": 8,
   "id": "0551d493-37ea-42d7-8377-f884359df075",
   "metadata": {},
   "outputs": [
    {
     "name": "stdout",
     "output_type": "stream",
     "text": [
      "full-stack software engineer\n",
      "1: Junior MES Engineer| Information Systems 0.7622295725044975\n",
      "2: Information Systems Specialist and Programmer with a love for data and organization. 0.7619851493150511\n",
      "3: Student at Indiana University Kokomo - Business Management - \n",
      "Retail Manager at Delphi Hardware and Paint 0.7088287689594017\n",
      "4: Human Resources professional for the world leader in GIS software 0.7065329628656409\n",
      "5: Business Management Major and Aspiring Human Resources Manager 0.6926389851724996\n",
      "6: Experienced Retail Manager and aspiring Human Resources Professional 0.6811633980833228\n",
      "7: SVP, CHRO, Marketing & Communications, CSR Officer | ENGIE | Houston | The Woodlands | Energy | GPHR | SPHR 0.666725839343354\n",
      "8: Business Intelligence and Analytics at Travelers 0.6637405483853753\n",
      "9: Aspiring Human Resources Management student seeking an internship 0.6500709587289313\n",
      "10: 2019 C.T. Bauer College of Business Graduate (Magna Cum Laude) and aspiring Human Resources professional 0.6386441347478579\n",
      "11: Aspiring Human Resources Specialist 0.6303813843551446\n",
      "12: Human Resources Specialist at Luxottica 0.6271369582872726\n",
      "13: Undergraduate Research Assistant at Styczynski Lab 0.6251584997544414\n",
      "14: Human Resources Management Major 0.6234681418500203\n",
      "15: Aspiring Human Resources Professional | An energetic and Team-Focused Leader 0.6199174666754875\n",
      "---\n",
      "engineering manager\n",
      "1: Student at Indiana University Kokomo - Business Management - \n",
      "Retail Manager at Delphi Hardware and Paint 0.8432005097506307\n",
      "2: Business Management Major and Aspiring Human Resources Manager 0.8127577166207691\n",
      "3: Undergraduate Research Assistant at Styczynski Lab 0.8008140151221409\n",
      "4: SVP, CHRO, Marketing & Communications, CSR Officer | ENGIE | Houston | The Woodlands | Energy | GPHR | SPHR 0.7995552433549897\n",
      "5: Experienced Retail Manager and aspiring Human Resources Professional 0.7703005717390502\n",
      "6: 2019 C.T. Bauer College of Business Graduate (Magna Cum Laude) and aspiring Human Resources professional 0.7546683418224073\n",
      "7: Senior Human Resources Business Partner at Heil Environmental 0.754031068106293\n",
      "8: Director Of Administration at Excellence Logging 0.7511078115000026\n",
      "9: HR Manager at Endemol Shine North America 0.7272282237890676\n",
      "10: Human Resources Management Major 0.7253794370810798\n",
      "11: Junior MES Engineer| Information Systems 0.7247640815009859\n",
      "12: People Development Coordinator at Ryan 0.7169186553448295\n",
      "13: HR Senior Specialist 0.7155581346411212\n",
      "14: Student at Humber College and Aspiring Human Resources Generalist 0.7154879999234959\n",
      "15: Information Systems Specialist and Programmer with a love for data and organization. 0.7154077632895972\n",
      "---\n",
      "aspiring human resources\n",
      "1: Aspiring Human Resources Specialist 0.9688016966999098\n",
      "2: Aspiring Human Resources Professional 0.95836779943549\n",
      "3: Human Resources Professional 0.9369100589405503\n",
      "4: Aspiring Human Resources Manager, seeking internship in Human Resources. 0.9347700080553837\n",
      "5: Seeking Human Resources Opportunities 0.9225672203898526\n",
      "6: Liberal Arts Major. Aspiring Human Resources Analyst. 0.9106550587105544\n",
      "7: Aspiring Human Resources Professional | Passionate about helping to create an inclusive and engaging work environment 0.8966296019721209\n",
      "8: Seeking Human Resources HRIS and Generalist Positions 0.8917243768415039\n",
      "9: Seeking Human Resources Position 0.8880884677107875\n",
      "10: Aspiring Human Resources Professional | An energetic and Team-Focused Leader 0.8850729331242466\n",
      "11: Human Resources Generalist at Schwan's 0.8805823183194277\n",
      "12: Human Resources Generalist at Loparex 0.8805823183194277\n",
      "13: Human Resources Generalist at ScottMadden, Inc. 0.8805823183194276\n",
      "14: Aspiring Human Resources Management student seeking an internship 0.8801499828290923\n",
      "15: Human Resources Management Major 0.8527715531492652\n",
      "---\n"
     ]
    }
   ],
   "source": [
    "candidates = originalCandidates.copy()\n",
    "job_titles = candidates[['job_title']].values.ravel()\n",
    "allPhrases = list(job_titles) + queries\n",
    "allWords = set([word.lower() for word in (\" \".join(allPhrases)).split()])\n",
    "tokenizer = Tokenizer()\n",
    "tokenizer.fit_on_texts(allWords)\n",
    "embedding_dim = 50\n",
    "embedding_matrix_vocab = util.embedding_for_vocab(\n",
    "    '../data/glove.6B.50d.txt', tokenizer.word_index,\n",
    "    embedding_dim)\n",
    "for query in queries:\n",
    "    print(query)\n",
    "    candidates = originalCandidates.copy()\n",
    "    candidates['fit'] = candidates['job_title'].apply(lambda x: util.retrieveGloveSimilarityScore(x,query,embedding_matrix_vocab,tokenizer))\n",
    "    util.sortAndDisplay(candidates,maxVisibleCandidates)"
   ]
  },
  {
   "cell_type": "markdown",
   "id": "16c6c442-951e-4ed7-8666-5959b390bc20",
   "metadata": {},
   "source": [
    "# FastText"
   ]
  },
  {
   "cell_type": "code",
   "execution_count": 9,
   "id": "2c16d68c-adaf-44cf-9909-51526a63dc60",
   "metadata": {},
   "outputs": [
    {
     "name": "stdout",
     "output_type": "stream",
     "text": [
      "full-stack software engineer\n",
      "1: Seeking employment opportunities within Customer Service or Patient Care 0.47579312324523926\n",
      "2: Aspiring Human Resources Management student seeking an internship 0.43933990597724915\n",
      "3: Director of Human Resources North America, Groupe Beneteau 0.4246407151222229\n",
      "4: Admissions Representative at Community medical center long beach 0.41557878255844116\n",
      "5: Retired Army National Guard Recruiter, office manager,  seeking a position in Human Resources. 0.4057430028915405\n",
      "6: Human Resources professional for the world leader in GIS software 0.3997538089752197\n",
      "7: Seeking Human Resources Opportunities 0.383891761302948\n",
      "8: Seeking Human  Resources Opportunities. Open to travel and relocation. 0.3805246949195862\n",
      "9: Student at Humber College and Aspiring Human Resources Generalist 0.37552499771118164\n",
      "10: 2019 C.T. Bauer College of Business Graduate (Magna Cum Laude) and aspiring Human Resources professional 0.3710193634033203\n",
      "11: Bachelor of Science in Biology from Victoria University of Wellington 0.369045227766037\n",
      "12: Experienced Retail Manager and aspiring Human Resources Professional 0.3680342435836792\n",
      "13: Aspiring Human Resources Professional | An energetic and Team-Focused Leader 0.3650847375392914\n",
      "14: Junior MES Engineer| Information Systems 0.36424824595451355\n",
      "15: Aspiring Human Resources Professional | Passionate about helping to create an inclusive and engaging work environment 0.36317673325538635\n",
      "---\n",
      "engineering manager\n",
      "1: Retired Army National Guard Recruiter, office manager,  seeking a position in Human Resources. 0.4819176197052002\n",
      "2: Business Management Major and Aspiring Human Resources Manager 0.46307748556137085\n",
      "3: Experienced Retail Manager and aspiring Human Resources Professional 0.4605550467967987\n",
      "4: Aspiring Human Resources Management student seeking an internship 0.45393866300582886\n",
      "5: Aspiring Human Resources Manager, seeking internship in Human Resources. 0.452434241771698\n",
      "6: Seeking employment opportunities within Customer Service or Patient Care 0.39277929067611694\n",
      "7: Admissions Representative at Community medical center long beach 0.35752636194229126\n",
      "8: Human Resources, Staffing and Recruiting Professional 0.3378732204437256\n",
      "9: Liberal Arts Major. Aspiring Human Resources Analyst. 0.3185919523239136\n",
      "10: Aspiring Human Resources Specialist 0.3152742087841034\n",
      "11: Aspiring Human Resources Professional 0.31345856189727783\n",
      "12: Senior Human Resources Business Partner at Heil Environmental 0.3117567300796509\n",
      "13: Human Resources Coordinator at InterContinental Buckhead Atlanta 0.31001168489456177\n",
      "14: Seeking Human Resources Opportunities 0.30940988659858704\n",
      "15: Human Resources Management Major 0.2986399233341217\n",
      "---\n",
      "aspiring human resources\n",
      "1: Aspiring Human Resources Professional 0.7474418878555298\n",
      "2: Aspiring Human Resources Manager, seeking internship in Human Resources. 0.7064180374145508\n",
      "3: Aspiring Human Resources Specialist 0.702750027179718\n",
      "4: Aspiring Human Resources Management student seeking an internship 0.6577013731002808\n",
      "5: Seeking Human Resources Opportunities 0.6203987002372742\n",
      "6: Business Management Major and Aspiring Human Resources Manager 0.6188695430755615\n",
      "7: Human Resources Professional 0.6110223531723022\n",
      "8: Experienced Retail Manager and aspiring Human Resources Professional 0.5941119194030762\n",
      "9: Liberal Arts Major. Aspiring Human Resources Analyst. 0.5740586519241333\n",
      "10: Retired Army National Guard Recruiter, office manager,  seeking a position in Human Resources. 0.5712076425552368\n",
      "11: Human Resources Management Major 0.5649522542953491\n",
      "12: Seeking Human Resources Position 0.5558615922927856\n",
      "13: 2019 C.T. Bauer College of Business Graduate (Magna Cum Laude) and aspiring Human Resources professional 0.5157433748245239\n",
      "14: Director of Human Resources North America, Groupe Beneteau 0.5028700828552246\n",
      "15: Human Resources professional for the world leader in GIS software 0.49150699377059937\n",
      "---\n"
     ]
    }
   ],
   "source": [
    "candidates = originalCandidates.copy()\n",
    "job_titles = candidates[['job_title']].values.ravel()\n",
    "allPhrases = list(job_titles) + queries\n",
    "jobSentences = [title.split() for title in list(job_titles)]\n",
    "sentences = [title.split() for title in allPhrases]\n",
    "phrases = Phrases(sentences, min_count = 30, progress_per = 10000)\n",
    "sentences = phrases[sentences]\n",
    "model = FastText(window = 5, min_count = 5, workers = 4, min_n = 1, max_n = 4)\n",
    "model.build_vocab(sentences)\n",
    "jobVectors = np.array([(model.wv[jobSentence]).mean(axis=0) for jobSentence in jobSentences])\n",
    "\n",
    "for query in queries:\n",
    "    print(query)\n",
    "    query_vector = (model.wv[query.split()]).mean(axis=0).reshape(1,-1)\n",
    "    \n",
    "    candidates['fit'] = cosine_similarity(jobVectors,query_vector)\n",
    "    util.sortAndDisplay(candidates,maxVisibleCandidates)\n"
   ]
  },
  {
   "cell_type": "markdown",
   "id": "c136e48a-111e-4df9-a8c5-b23d22c113a5",
   "metadata": {},
   "source": [
    "# Bert"
   ]
  },
  {
   "cell_type": "code",
   "execution_count": 10,
   "id": "8b6a3d2a-3732-404f-8e16-7cfc439995de",
   "metadata": {},
   "outputs": [
    {
     "name": "stderr",
     "output_type": "stream",
     "text": [
      "Some weights of BertForSequenceClassification were not initialized from the model checkpoint at bert-base-uncased and are newly initialized: ['classifier.bias', 'classifier.weight']\n",
      "You should probably TRAIN this model on a down-stream task to be able to use it for predictions and inference.\n"
     ]
    },
    {
     "name": "stdout",
     "output_type": "stream",
     "text": [
      "full-stack software engineer\n",
      "1: SVP, CHRO, Marketing & Communications, CSR Officer | ENGIE | Houston | The Woodlands | Energy | GPHR | SPHR 0.9999988079071045\n",
      "2: Student at Chapman University 0.9999772906303406\n",
      "3: Nortia Staffing is seeking Human Resources, Payroll & Administrative Professionals!!  (408) 709-2621 0.9999467730522156\n",
      "4: Human Resources|\n",
      "Conflict Management|\n",
      "Policies & Procedures|Talent Management|Benefits & Compensation 0.999929666519165\n",
      "5: HR Manager at Endemol Shine North America 0.9999216794967651\n",
      "6: Student at Humber College and Aspiring Human Resources Generalist 0.9999035000801086\n",
      "7: Seeking Human  Resources Opportunities. Open to travel and relocation. 0.9998388290405273\n",
      "8: Experienced Retail Manager and aspiring Human Resources Professional 0.9997940063476562\n",
      "9: Business Intelligence and Analytics at Travelers 0.9997907876968384\n",
      "10: Human Resources Coordinator at InterContinental Buckhead Atlanta 0.9996907114982605\n",
      "11: Human Resources Management Major 0.9996544122695923\n",
      "12: Aspiring Human Resources Professional | An energetic and Team-Focused Leader 0.999492883682251\n",
      "13: Director Of Administration at Excellence Logging 0.9994339942932129\n",
      "14: RRP Brand Portfolio Executive at JTI (Japan Tobacco International) 0.9993994832038879\n",
      "15: Business Management Major and Aspiring Human Resources Manager 0.999299943447113\n",
      "---\n",
      "engineering manager\n",
      "1: Human Resources Professional 0.9999734163284302\n",
      "2: Aspiring Human Resources Professional 0.9997029304504395\n",
      "3: Human Resources Generalist at Loparex 0.9996650218963623\n",
      "4: Human Resources Specialist at Luxottica 0.9979206323623657\n",
      "5: Director Of Administration at Excellence Logging 0.9963960647583008\n",
      "6: Aspiring Human Resources Specialist 0.9950460195541382\n",
      "7: Lead Official at Western Illinois University 0.9946892261505127\n",
      "8: HR Manager at Endemol Shine North America 0.9943817853927612\n",
      "9: Human Resources|\n",
      "Conflict Management|\n",
      "Policies & Procedures|Talent Management|Benefits & Compensation 0.9943118095397949\n",
      "10: Nortia Staffing is seeking Human Resources, Payroll & Administrative Professionals!!  (408) 709-2621 0.9941462874412537\n",
      "11: Student at Chapman University 0.9937525987625122\n",
      "12: SVP, CHRO, Marketing & Communications, CSR Officer | ENGIE | Houston | The Woodlands | Energy | GPHR | SPHR 0.9927967190742493\n",
      "13: Student at Humber College and Aspiring Human Resources Generalist 0.9912393093109131\n",
      "14: Seeking Human  Resources Opportunities. Open to travel and relocation. 0.9906947612762451\n",
      "15: Experienced Retail Manager and aspiring Human Resources Professional 0.9903731942176819\n",
      "---\n",
      "aspiring human resources\n",
      "1: People Development Coordinator at Ryan 0.9927917122840881\n",
      "2: HR Senior Specialist 0.9787979125976562\n",
      "3: Seeking Human Resources Opportunities 0.9711093902587891\n",
      "4: Seeking Human Resources Position 0.9450628757476807\n",
      "5: Always set them up for Success 0.9028839468955994\n",
      "6: Lead Official at Western Illinois University 0.793874204158783\n",
      "7: Aspiring Human Resources Specialist 0.7917245626449585\n",
      "8: Human Resources Specialist at Luxottica 0.7698124647140503\n",
      "9: Human Resources Generalist at Loparex 0.7445980310440063\n",
      "10: Human Resources Professional 0.7220379114151001\n",
      "11: Aspiring Human Resources Professional 0.7101235389709473\n",
      "12: Director Of Administration at Excellence Logging 0.6662154197692871\n",
      "13: HR Manager at Endemol Shine North America 0.6503118872642517\n",
      "14: Human Resources|\n",
      "Conflict Management|\n",
      "Policies & Procedures|Talent Management|Benefits & Compensation 0.6498117446899414\n",
      "15: Nortia Staffing is seeking Human Resources, Payroll & Administrative Professionals!!  (408) 709-2621 0.648638129234314\n",
      "---\n"
     ]
    }
   ],
   "source": [
    "candidates = originalCandidates.copy()\n",
    "job_titles = candidates[['job_title']].values.ravel()\n",
    "\n",
    "tokenizer = BertTokenizer.from_pretrained('bert-base-uncased')\n",
    "model = BertForSequenceClassification.from_pretrained('bert-base-uncased')\n",
    "\n",
    "job_title_tokens = [tokenizer.encode(title, add_special_tokens=True, max_length=128, truncation=True) for title in job_titles]\n",
    "job_title_input_ids = [torch.tensor(tokens).unsqueeze(0) for tokens in job_title_tokens]\n",
    "with torch.no_grad():\n",
    "    job_title_embeddings = [model(title)[0] for title in job_title_input_ids]\n",
    "\n",
    "for query in queries:\n",
    "    print(query)\n",
    "    query_tokens = tokenizer.encode(query, add_special_tokens=True, max_length=128, truncation=True)\n",
    "    query_input_ids = torch.tensor(query_tokens).unsqueeze(0)\n",
    "    with torch.no_grad():\n",
    "        query_embedding = model(query_input_ids)[0]\n",
    "    \n",
    "    scores = [cosine_similarity(query_embedding,job_title_embedding) for job_title_embedding in job_title_embeddings]\n",
    "    candidates['fit'] = np.array(scores).reshape(-1,1)\n",
    "    util.sortAndDisplay(candidates,maxVisibleCandidates)\n"
   ]
  },
  {
   "cell_type": "markdown",
   "id": "adecd53e-0386-41c1-8caf-a2ea1c370c70",
   "metadata": {},
   "source": [
    "# Sbert"
   ]
  },
  {
   "cell_type": "code",
   "execution_count": 11,
   "id": "06e3871a",
   "metadata": {},
   "outputs": [
    {
     "name": "stdout",
     "output_type": "stream",
     "text": [
      "full-stack software engineer\n",
      "1: Human Resources professional for the world leader in GIS software 0.45468375086784363\n",
      "2: Information Systems Specialist and Programmer with a love for data and organization. 0.45314186811447144\n",
      "3: Junior MES Engineer| Information Systems 0.4411553144454956\n",
      "4: Director Of Administration at Excellence Logging 0.4336070120334625\n",
      "5: Director Human Resources  at EY 0.3725767731666565\n",
      "6: Senior Human Resources Business Partner at Heil Environmental 0.3614225387573242\n",
      "7: Business Management Major and Aspiring Human Resources Manager 0.3590739071369171\n",
      "8: Aspiring Human Resources Specialist 0.3582056164741516\n",
      "9: Aspiring Human Resources Professional 0.3471512794494629\n",
      "10: Human Resources, Staffing and Recruiting Professional 0.34141218662261963\n",
      "11: Human Resources Management Major 0.33707278966903687\n",
      "12: Human Resources Professional 0.3347281813621521\n",
      "13: Aspiring Human Resources Professional | An energetic and Team-Focused Leader 0.33343350887298584\n",
      "14: Aspiring Human Resources Manager, seeking internship in Human Resources. 0.3301021456718445\n",
      "15: Aspiring Human Resources Management student seeking an internship 0.3223065137863159\n",
      "---\n",
      "engineering manager\n",
      "1: Business Management Major and Aspiring Human Resources Manager 0.6360873579978943\n",
      "2: Director Of Administration at Excellence Logging 0.5828704833984375\n",
      "3: Junior MES Engineer| Information Systems 0.5493049621582031\n",
      "4: Human Resources Management Major 0.5321911573410034\n",
      "5: Aspiring Human Resources Manager, seeking internship in Human Resources. 0.5196014642715454\n",
      "6: Senior Human Resources Business Partner at Heil Environmental 0.5186468362808228\n",
      "7: Student at Indiana University Kokomo - Business Management - \n",
      "Retail Manager at Delphi Hardware and Paint 0.5142908096313477\n",
      "8: Director Human Resources  at EY 0.513850748538971\n",
      "9: Experienced Retail Manager and aspiring Human Resources Professional 0.5029017329216003\n",
      "10: HR Manager at Endemol Shine North America 0.49780309200286865\n",
      "11: Aspiring Human Resources Management student seeking an internship 0.4909808337688446\n",
      "12: Human Resources Professional 0.47998374700546265\n",
      "13: Aspiring Human Resources Specialist 0.4679264426231384\n",
      "14: Retired Army National Guard Recruiter, office manager,  seeking a position in Human Resources. 0.46434247493743896\n",
      "15: Human Resources, Staffing and Recruiting Professional 0.4597044587135315\n",
      "---\n",
      "aspiring human resources\n",
      "1: Aspiring Human Resources Professional 0.9206299781799316\n",
      "2: Aspiring Human Resources Specialist 0.870179295539856\n",
      "3: Seeking Human Resources Opportunities 0.8650650382041931\n",
      "4: Seeking Human Resources Position 0.8340883255004883\n",
      "5: Aspiring Human Resources Professional | An energetic and Team-Focused Leader 0.7923903465270996\n",
      "6: Aspiring Human Resources Manager, seeking internship in Human Resources. 0.7472414970397949\n",
      "7: Human Resources Professional 0.7461004853248596\n",
      "8: Seeking Human Resources HRIS and Generalist Positions 0.7420139312744141\n",
      "9: Aspiring Human Resources Manager | Graduating May 2020 | Seeking an Entry-Level Human Resources Position in St. Louis 0.7408649921417236\n",
      "10: Aspiring Human Resources Professional | Passionate about helping to create an inclusive and engaging work environment 0.7317100167274475\n",
      "11: Seeking Human  Resources Opportunities. Open to travel and relocation. 0.7273449301719666\n",
      "12: Student at Humber College and Aspiring Human Resources Generalist 0.72224360704422\n",
      "13: Aspiring Human Resources Management student seeking an internship 0.7149865031242371\n",
      "14: Human Resources, Staffing and Recruiting Professional 0.6593306660652161\n",
      "15: Liberal Arts Major. Aspiring Human Resources Analyst. 0.6579337120056152\n",
      "---\n"
     ]
    }
   ],
   "source": [
    "candidates = originalCandidates.copy()\n",
    "job_titles = candidates[['job_title']].values.ravel()\n",
    "\n",
    "model = SentenceTransformer('paraphrase-MiniLM-L6-v2')\n",
    "job_title_embeddings = model.encode(job_titles)\n",
    "for query in queries:\n",
    "    print(query)\n",
    "    \n",
    "    query_embedding = model.encode(query)\n",
    "    queryArray = query_embedding.reshape(1,-1)\n",
    "    similarities = cosine_similarity(queryArray, job_title_embeddings)\n",
    "    candidates['fit'] = np.array(similarities).reshape(-1,1)\n",
    "    util.sortAndDisplay(candidates,maxVisibleCandidates)"
   ]
  },
  {
   "cell_type": "markdown",
   "id": "6c64d027-df8d-4484-ac73-35b300ab86c5",
   "metadata": {},
   "source": [
    "# Conclusion"
   ]
  },
  {
   "cell_type": "markdown",
   "id": "887aa39d-2f70-424d-984b-a1a51cb0d6bc",
   "metadata": {},
   "source": [
    "# Bag Of Words\n",
    "    - For software engineer, it grabbed 2 out the 3 propper matches. engineering manager, 1st 6 work, rest are zero. HR is fine\n",
    "# TF-IDF\n",
    "    - Software engineer, it grabbed 2 out the 3 propper matches. 0.0 score matches made the top 15. Mix of managers for engineering manager. HR search is good.\n",
    "# word2Vec\n",
    "    - For software developer, best matches were number 3 & 13. A lot of HR managers were pulled for engineering manager. HR search is good.\n",
    "# Glove\n",
    "    - HR is still good. Manager search is ok. For software engineer search, top 3 searches are in positions 1,2, and 4\n",
    "# FastText\n",
    "    - HR good. Manager is bringing up non-technical managers first, but manager is still being brought up. Software engineer search is a mess.\n",
    "# Bert\n",
    "    - Very off. Not exactly following what others are doing\n",
    "# Sbert\n",
    "    - HR and Manager searches are good. Software Engineer search grabbed 3 out of the 3 propper matches\n",
    "\n",
    "We will go with SBERT based on how well it was able to grab the 3 most software like positions in the software engineer search"
   ]
  },
  {
   "cell_type": "markdown",
   "id": "eb19e965",
   "metadata": {},
   "source": [
    "# Packaging SBERT"
   ]
  },
  {
   "cell_type": "code",
   "execution_count": null,
   "id": "1920e4cc",
   "metadata": {},
   "outputs": [],
   "source": [
    "model = SentenceTransformer('paraphrase-MiniLM-L6-v2')\n",
    "util.saveModel(model,'SBERT')"
   ]
  }
 ],
 "metadata": {
  "kernelspec": {
   "display_name": "Python 3 (ipykernel)",
   "language": "python",
   "name": "python3"
  },
  "language_info": {
   "codemirror_mode": {
    "name": "ipython",
    "version": 3
   },
   "file_extension": ".py",
   "mimetype": "text/x-python",
   "name": "python",
   "nbconvert_exporter": "python",
   "pygments_lexer": "ipython3",
   "version": "3.9.18"
  }
 },
 "nbformat": 4,
 "nbformat_minor": 5
}
