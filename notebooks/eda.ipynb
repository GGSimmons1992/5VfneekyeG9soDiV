{
 "cells": [
  {
   "cell_type": "code",
   "execution_count": 1,
   "id": "a2c74b81-8cf5-4858-9671-b97989d62211",
   "metadata": {},
   "outputs": [
    {
     "data": {
      "application/javascript": [
       "IPython.notebook.set_autosave_interval(5000)"
      ]
     },
     "metadata": {},
     "output_type": "display_data"
    },
    {
     "name": "stdout",
     "output_type": "stream",
     "text": [
      "Autosaving every 5 seconds\n"
     ]
    }
   ],
   "source": [
    "import pandas as pd\n",
    "import spacy\n",
    "from sklearn.feature_extraction.text import CountVectorizer\n",
    "from sklearn.metrics.pairwise import cosine_similarity\n",
    "\n",
    "import sys\n",
    "sys.path.insert(0, \"../src/\")\n",
    "import util as util\n",
    "\n",
    "%autosave 5"
   ]
  },
  {
   "cell_type": "code",
   "execution_count": 2,
   "id": "ca76ca37-4ebe-454b-b94e-9ff009147962",
   "metadata": {},
   "outputs": [],
   "source": [
    "queries = [\"full-stack software engineer\", \"engineering manager\",\"aspiring human resources\"]\n",
    "maxVisibleCandidates = 15"
   ]
  },
  {
   "cell_type": "code",
   "execution_count": 3,
   "id": "8eea0bf7-1344-412f-a953-b5c6ca07c255",
   "metadata": {},
   "outputs": [],
   "source": [
    "originalCandidates = pd.read_csv('../data/raw/potential-talents-AspiringHumanResources-SeekingHumanResources.csv')\n",
    "originalCandidates.loc[originalCandidates['connection'] == '500+ ','connection'] = '500'\n",
    "originalCandidates['connection'] = originalCandidates['connection'].astype(int)"
   ]
  },
  {
   "cell_type": "markdown",
   "id": "7d5a9e4d-6d4a-4ae7-bb60-bcc2e8131edb",
   "metadata": {},
   "source": [
    "# Spacy"
   ]
  },
  {
   "cell_type": "code",
   "execution_count": 4,
   "id": "efacd631-8198-4496-abca-ef0cd3a66873",
   "metadata": {
    "tags": []
   },
   "outputs": [
    {
     "name": "stdout",
     "output_type": "stream",
     "text": [
      "full-stack software engineer\n",
      "0: Information Systems Specialist and Programmer with a love for data and organization. 0.563996787628674\n",
      "1: Student at Indiana University Kokomo - Business Management - \n",
      "Retail Manager at Delphi Hardware and Paint 0.5228140441359616\n",
      "2: Human Resources professional for the world leader in GIS software 0.4853645607821708\n",
      "3: Nortia Staffing is seeking Human Resources, Payroll & Administrative Professionals!!  (408) 709-2621 0.4392605632997097\n",
      "4: Aspiring Human Resources Professional | Passionate about helping to create an inclusive and engaging work environment 0.4355657572661699\n",
      "5: Junior MES Engineer| Information Systems 0.4243483225610306\n",
      "6: Experienced Retail Manager and aspiring Human Resources Professional 0.41077131418696483\n",
      "7: Human Resources, Staffing and Recruiting Professional 0.4046824288211493\n",
      "8: Retired Army National Guard Recruiter, office manager,  seeking a position in Human Resources. 0.40041681086893033\n",
      "9: Aspiring Human Resources Management student seeking an internship 0.3980296354612305\n",
      "10: Aspiring Human Resources Management student seeking an internship 0.3980296354612305\n",
      "11: Aspiring Human Resources Professional | An energetic and Team-Focused Leader 0.3976490221113053\n",
      "12: Seeking Human  Resources Opportunities. Open to travel and relocation. 0.38483360155544655\n",
      "13: Always set them up for Success 0.38414528175077844\n",
      "14: Seeking Human Resources HRIS and Generalist Positions 0.38295987930893993\n",
      "---\n",
      "engineering manager\n",
      "0: Retired Army National Guard Recruiter, office manager,  seeking a position in Human Resources. 0.6559770719310632\n",
      "1: Business Management Major and Aspiring Human Resources Manager 0.6500815077464313\n",
      "2: Experienced Retail Manager and aspiring Human Resources Professional 0.6452280409757035\n",
      "3: Human Resources professional for the world leader in GIS software 0.6226919088366861\n",
      "4: Information Systems Specialist and Programmer with a love for data and organization. 0.6142714541875989\n",
      "5: Aspiring Human Resources Manager, seeking internship in Human Resources. 0.6129882147443834\n",
      "6: Human Resources, Staffing and Recruiting Professional 0.6093108742281216\n",
      "7: Aspiring Human Resources Management student seeking an internship 0.5623110584717963\n",
      "8: Aspiring Human Resources Management student seeking an internship 0.5623110584717963\n",
      "9: Student at Humber College and Aspiring Human Resources Generalist 0.5547452344229497\n",
      "10: Student at Humber College and Aspiring Human Resources Generalist 0.5547452344229497\n",
      "11: Student at Humber College and Aspiring Human Resources Generalist 0.5547452344229497\n",
      "12: Student at Humber College and Aspiring Human Resources Generalist 0.5547452344229497\n",
      "13: Student at Humber College and Aspiring Human Resources Generalist 0.5547452344229497\n",
      "14: Student at Humber College and Aspiring Human Resources Generalist 0.5547452344229497\n",
      "---\n",
      "aspiring human resources\n",
      "0: Aspiring Human Resources Professional | Passionate about helping to create an inclusive and engaging work environment 0.7752183922304938\n",
      "1: Human Resources professional for the world leader in GIS software 0.718600344350365\n",
      "2: Information Systems Specialist and Programmer with a love for data and organization. 0.7154784883394667\n",
      "3: Seeking Human  Resources Opportunities. Open to travel and relocation. 0.7021600908809308\n",
      "4: Aspiring Human Resources Manager, seeking internship in Human Resources. 0.6941152250785876\n",
      "5: Seeking Human Resources HRIS and Generalist Positions 0.6937308149453203\n",
      "6: Seeking Human Resources HRIS and Generalist Positions 0.6937308149453203\n",
      "7: Seeking Human Resources HRIS and Generalist Positions 0.6937308149453203\n",
      "8: Seeking Human Resources HRIS and Generalist Positions 0.6937308149453203\n",
      "9: Seeking Human Resources Opportunities 0.684626039033275\n",
      "10: Seeking Human Resources Opportunities 0.684626039033275\n",
      "11: Human Resources, Staffing and Recruiting Professional 0.6795955750937126\n",
      "12: Aspiring Human Resources Management student seeking an internship 0.6735509590736447\n",
      "13: Aspiring Human Resources Management student seeking an internship 0.6735509590736447\n",
      "14: Aspiring Human Resources Professional 0.654929689796428\n",
      "---\n"
     ]
    }
   ],
   "source": [
    "for query in queries:\n",
    "    print(query)\n",
    "    candidates = originalCandidates.copy()\n",
    "    candidates['fit'] = candidates['job_title'].apply(lambda x: util.scoreSpacySimilary(query,x))\n",
    "    candidates = candidates.sort_values(by=['fit','connection'],ascending=False)\n",
    "    candidates = candidates.reset_index(drop=True)\n",
    "    for i in range(maxVisibleCandidates):\n",
    "        print(f\"{i}: {candidates.loc[i,'job_title']} {candidates.loc[i,'fit']}\")\n",
    "    print('---')"
   ]
  },
  {
   "cell_type": "markdown",
   "id": "0e374f37-ecb2-42ca-bdca-e758dcbabe1b",
   "metadata": {},
   "source": [
    "# Bag Of Words"
   ]
  },
  {
   "cell_type": "code",
   "execution_count": 5,
   "id": "bcf93c2f-0040-47ba-9814-3731c1944096",
   "metadata": {},
   "outputs": [
    {
     "name": "stdout",
     "output_type": "stream",
     "text": [
      "full-stack software engineer\n",
      "0: Junior MES Engineer| Information Systems 0.3162277660168379\n",
      "1: Human Resources professional for the world leader in GIS software 0.22360679774997896\n",
      "2: Native English Teacher at EPIK (English Program in Korea) 0.0\n",
      "3: People Development Coordinator at Ryan 0.0\n",
      "4: Advisory Board Member at Celal Bayar University 0.0\n",
      "5: HR Senior Specialist 0.0\n",
      "6: Seeking Human Resources HRIS and Generalist Positions 0.0\n",
      "7: SVP, CHRO, Marketing & Communications, CSR Officer | ENGIE | Houston | The Woodlands | Energy | GPHR | SPHR 0.0\n",
      "8: Human Resources Coordinator at InterContinental Buckhead Atlanta 0.0\n",
      "9: Native English Teacher at EPIK (English Program in Korea) 0.0\n",
      "10: People Development Coordinator at Ryan 0.0\n",
      "11: Native English Teacher at EPIK (English Program in Korea) 0.0\n",
      "12: People Development Coordinator at Ryan 0.0\n",
      "13: Advisory Board Member at Celal Bayar University 0.0\n",
      "14: HR Senior Specialist 0.0\n",
      "---\n",
      "engineering manager\n",
      "0: HR Manager at Endemol Shine North America 0.3779644730092272\n",
      "1: Experienced Retail Manager and aspiring Human Resources Professional 0.35355339059327373\n",
      "2: Business Management Major and Aspiring Human Resources Manager 0.35355339059327373\n",
      "3: Retired Army National Guard Recruiter, office manager,  seeking a position in Human Resources. 0.2886751345948129\n",
      "4: Aspiring Human Resources Manager, seeking internship in Human Resources. 0.2773500981126146\n",
      "5: Student at Indiana University Kokomo - Business Management - \n",
      "Retail Manager at Delphi Hardware and Paint 0.25\n",
      "6: Aspiring Human Resources Manager | Graduating May 2020 | Seeking an Entry-Level Human Resources Position in St. Louis 0.2182178902359924\n",
      "7: Native English Teacher at EPIK (English Program in Korea) 0.0\n",
      "8: People Development Coordinator at Ryan 0.0\n",
      "9: Advisory Board Member at Celal Bayar University 0.0\n",
      "10: HR Senior Specialist 0.0\n",
      "11: Seeking Human Resources HRIS and Generalist Positions 0.0\n",
      "12: SVP, CHRO, Marketing & Communications, CSR Officer | ENGIE | Houston | The Woodlands | Energy | GPHR | SPHR 0.0\n",
      "13: Human Resources Coordinator at InterContinental Buckhead Atlanta 0.0\n",
      "14: Native English Teacher at EPIK (English Program in Korea) 0.0\n",
      "---\n",
      "aspiring human resources\n",
      "0: Aspiring Human Resources Professional 0.8660254037844388\n",
      "1: Aspiring Human Resources Professional 0.8660254037844388\n",
      "2: Aspiring Human Resources Professional 0.8660254037844388\n",
      "3: Aspiring Human Resources Professional 0.8660254037844388\n",
      "4: Aspiring Human Resources Professional 0.8660254037844388\n",
      "5: Aspiring Human Resources Professional 0.8660254037844388\n",
      "6: Aspiring Human Resources Professional 0.8660254037844388\n",
      "7: Aspiring Human Resources Specialist 0.8660254037844388\n",
      "8: Aspiring Human Resources Specialist 0.8660254037844388\n",
      "9: Aspiring Human Resources Specialist 0.8660254037844388\n",
      "10: Aspiring Human Resources Specialist 0.8660254037844388\n",
      "11: Aspiring Human Resources Specialist 0.8660254037844388\n",
      "12: Aspiring Human Resources Manager, seeking internship in Human Resources. 0.8006407690254358\n",
      "13: Human Resources Professional 0.6666666666666669\n",
      "14: Liberal Arts Major. Aspiring Human Resources Analyst. 0.6546536707079772\n",
      "---\n"
     ]
    }
   ],
   "source": [
    "vectorizer = CountVectorizer()\n",
    "job_titles = originalCandidates[['job_title']].values.ravel()\n",
    "candidateVectors = vectorizer.fit_transform(job_titles)\n",
    "\n",
    "for query in queries:\n",
    "    print(query)\n",
    "    candidates = originalCandidates.copy()\n",
    "    queryVector = vectorizer.transform([query])\n",
    "    candidates['fit'] = cosine_similarity(candidateVectors,queryVector)\n",
    "    candidates = candidates.sort_values(by=['fit','connection'],ascending=False)\n",
    "    candidates = candidates.reset_index(drop=True)\n",
    "    for i in range(maxVisibleCandidates):\n",
    "        print(f\"{i}: {candidates.loc[i,'job_title']} {candidates.loc[i,'fit']}\")\n",
    "    print('---')"
   ]
  },
  {
   "cell_type": "markdown",
   "id": "654bcce9-7d2e-4071-aa47-128342565755",
   "metadata": {},
   "source": [
    "# TF-IDF (12/27)"
   ]
  },
  {
   "cell_type": "markdown",
   "id": "c36f8036-183e-4fb9-89db-fb787c1404bd",
   "metadata": {},
   "source": [
    "# Word2Vec (12/27)"
   ]
  },
  {
   "cell_type": "markdown",
   "id": "79e54013-3989-4036-a2cb-67cf6ed8f371",
   "metadata": {},
   "source": [
    "# Glove (12/28)"
   ]
  },
  {
   "cell_type": "markdown",
   "id": "16c6c442-951e-4ed7-8666-5959b390bc20",
   "metadata": {},
   "source": [
    "# FastText (12/29)"
   ]
  },
  {
   "cell_type": "markdown",
   "id": "c136e48a-111e-4df9-a8c5-b23d22c113a5",
   "metadata": {},
   "source": [
    "# Bert (12/30)"
   ]
  },
  {
   "cell_type": "markdown",
   "id": "adecd53e-0386-41c1-8caf-a2ea1c370c70",
   "metadata": {},
   "source": [
    "# Sbert (12/31)"
   ]
  },
  {
   "cell_type": "markdown",
   "id": "6c64d027-df8d-4484-ac73-35b300ab86c5",
   "metadata": {},
   "source": [
    "# Conclusion"
   ]
  },
  {
   "cell_type": "code",
   "execution_count": null,
   "id": "887aa39d-2f70-424d-984b-a1a51cb0d6bc",
   "metadata": {},
   "outputs": [],
   "source": []
  }
 ],
 "metadata": {
  "kernelspec": {
   "display_name": "Python 3 (ipykernel)",
   "language": "python",
   "name": "python3"
  },
  "language_info": {
   "codemirror_mode": {
    "name": "ipython",
    "version": 3
   },
   "file_extension": ".py",
   "mimetype": "text/x-python",
   "name": "python",
   "nbconvert_exporter": "python",
   "pygments_lexer": "ipython3",
   "version": "3.11.5"
  }
 },
 "nbformat": 4,
 "nbformat_minor": 5
}
